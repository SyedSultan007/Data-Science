{
  "nbformat": 4,
  "nbformat_minor": 0,
  "metadata": {
    "colab": {
      "private_outputs": true,
      "provenance": [],
      "collapsed_sections": [
        "FJNUwmbgGyua",
        "YJ55k-q6phqO",
        "gCFgpxoyphqP",
        "OVtJsKN_phqQ",
        "lssrdh5qphqQ",
        "U2RJ9gkRphqQ",
        "1M8mcRywphqQ",
        "tgIPom80phqQ",
        "JMzcOPDDphqR",
        "x-EpHcCOp1ci",
        "X_VqEhTip1ck",
        "8zGJKyg5p1ck",
        "PVzmfK_Ep1ck",
        "n3dbpmDWp1ck",
        "ylSl6qgtp1ck",
        "ZWILFDl5p1ck",
        "M7G43BXep1ck",
        "Ag9LCva-p1cl",
        "E6MkPsBcp1cl",
        "2cELzS2fp1cl",
        "3MPXvC8up1cl",
        "NC_X3p0fY2L0",
        "UV0SzAkaZNRQ",
        "YPEH6qLeZNRQ",
        "q29F0dvdveiT",
        "EXh0U9oCveiU",
        "22aHeOlLveiV",
        "gIfDvo9L0UH2"
      ],
      "include_colab_link": true
    },
    "kernelspec": {
      "name": "python3",
      "display_name": "Python 3"
    },
    "language_info": {
      "name": "python"
    }
  },
  "cells": [
    {
      "cell_type": "markdown",
      "metadata": {
        "id": "view-in-github",
        "colab_type": "text"
      },
      "source": [
        "<a href=\"https://colab.research.google.com/github/SyedSultan007/Data-Science/blob/main/Syed_AirBNB_NYC_2019_Sample_EDA_Submission_Template.ipynb\" target=\"_parent\"><img src=\"https://colab.research.google.com/assets/colab-badge.svg\" alt=\"Open In Colab\"/></a>"
      ]
    },
    {
      "cell_type": "markdown",
      "source": [
        "# **Project Name**    - Air BNB NYC 2019\n",
        "\n"
      ],
      "metadata": {
        "id": "vncDsAP0Gaoa"
      }
    },
    {
      "cell_type": "markdown",
      "source": [
        "##### **Project Type**    - EDA\n",
        "##### **Contribution**    - Individual\n",
        "##### **Name**            - Syed Sultan"
      ],
      "metadata": {
        "id": "beRrZCGUAJYm"
      }
    },
    {
      "cell_type": "markdown",
      "source": [
        "# **Project Summary -**"
      ],
      "metadata": {
        "id": "FJNUwmbgGyua"
      }
    },
    {
      "cell_type": "markdown",
      "source": [
        "Write the summary here within 500-600 words."
      ],
      "metadata": {
        "id": "F6v_1wHtG2nS"
      }
    },
    {
      "cell_type": "markdown",
      "source": [
        "Program Summary\n",
        "\n",
        "The project focused on optimizing Airbnb property management strategies in New York City (NYC) to achieve sustainable growth and profitability. Through extensive data analysis and action planning, we identified key insights and recommended solutions that could be implemented to improve business results.\n",
        "\n",
        "Market Research and Analysis\n",
        "Our research began with a thorough analysis of Airbnb data in the NYC area. Key findings showed that Manhattan and Brooklyn are high-demand destinations, attracting large numbers of tourists and business travelers. These neighborhoods exhibited a high population density and commanded higher prices due to central locations and a variety of attractions.\n",
        "\n",
        "In contrast, neighborhoods such as The Bronx and Staten Island showed growth potential with less competition but also a decline in overall demand. Understanding these market dynamics has guided asset placement and market placement strategies.\n",
        "\n",
        "Guidance Recommendations\n",
        "1. Asset investment and trading strategies\n",
        "To take advantage of demanding jobs: Focus on Manhattan and Brooklyn: Promote listed properties in these areas to increase residential and income potential. Emphasize unique selling points such as proximity to landmarks, cultural attractions and businesses.\n",
        "Emphasize uniqueness: Differentiate listings in less crowded areas like The Bronx and Staten Island by highlighting unique local experiences and affordability.\n",
        "\n",
        "2. Data-driven pricing and revenue management\n",
        "Implementing dynamic pricing strategies: Dynamic pricing models: Use data insights to adjust pricing based on seasonal demand, local events, and competitor analysis. This approach ensures competitive pricing to maximize revenue during peak periods.\n",
        "Private Room Pricing: Establish competitive private room rates in Brooklyn and other high-demand neighborhoods popular with many travelers.\n",
        "\n",
        "3. Improving guest experience and satisfaction\n",
        "To maintain a high level of guest satisfaction: Customized property descriptions: Use popular keywords identified from data analysis (e.g., \"comfortable,\" \"modern,\" \"private\") in property name descriptions to drive discovery searches high and has attracted many adopters.\n",
        "Quality activities: Strict quality control procedures were implemented to ensure cleanliness, comfort and quality of service. Proactively respond to guest feedback to continuously improve the guest experience and reviews.\n",
        "\n",
        "4. Compliance and risk management\n",
        "Solving legal challenges: Let them know: Know the local rules for short-term rentals in NYC. Ensure compliance to avoid penalties and legal risks.\n",
        "Recommend appropriate legislation: Engage with local officials and industry stakeholders to advocate for appropriate and sustainable short-term rental policies that support business growth.\n",
        "\n",
        "5. Diversity of products and long-term strategies\n",
        "Diversify offers and encourage longer stays:\n",
        "\n",
        "Offer room variety: Increase the variety of rooms, including condominiums, to accommodate different traveler preferences and budgets.\n",
        "Encourage longevity: Use promotions and incentives to encourage longevity, especially in Manhattan and the East Village, which saw average length of stay.\n",
        "conclusion\n",
        "In conclusion, by implementing these strategic recommendations, the buyer can enhance its competitive position in the NYC Airbnb market. These strategies aim to optimize revenue, improve occupancy rates, and provide a positive guest experience, ultimately leading to sustainable business growth and profitability By visiting over monitoring, adapting to market trends, and active guest engagement, the client will be able to maintain market share in the market strongly and long term they can achieve seasonal success in the NYC hospitality industry if it is in the active."
      ],
      "metadata": {
        "id": "KpBPxChE1w8u"
      }
    },
    {
      "cell_type": "markdown",
      "source": [
        "# **GitHub Link -**"
      ],
      "metadata": {
        "id": "w6K7xa23Elo4"
      }
    },
    {
      "cell_type": "markdown",
      "source": [
        "Provide your GitHub Link here."
      ],
      "metadata": {
        "id": "h1o69JH3Eqqn"
      }
    },
    {
      "cell_type": "markdown",
      "source": [
        "https://github.com/SyedSultan007"
      ],
      "metadata": {
        "id": "zg6kZW71QVTk"
      }
    },
    {
      "cell_type": "markdown",
      "source": [
        "# **Problem Statement**\n"
      ],
      "metadata": {
        "id": "yQaldy8SH6Dl"
      }
    },
    {
      "cell_type": "markdown",
      "source": [
        "The problem at hand is to optimize the property management and profitability of Airbnb in New York City (NYC). The objective is to increase guest numbers, increase revenue, and enhance guest satisfaction through strategic management and data-driven decision making Key challenges include navigating competitive market developments, comply with local regulations, and properly differentiate properties to meet different traveler preferences To recommend different strategies, in the NYC Airbnb market is to provide sustainable growth and a strong competitive edge."
      ],
      "metadata": {
        "id": "DpeJGUA3kjGy"
      }
    },
    {
      "cell_type": "markdown",
      "source": [
        "#### **Define Your Business Objective?**"
      ],
      "metadata": {
        "id": "PH-0ReGfmX4f"
      }
    },
    {
      "cell_type": "markdown",
      "source": [
        "The project aims to increase the profitability and occupancy of Airbnb properties in New York City (NYC). This includes:\n",
        "\n",
        "average occupancy rates increase.\n",
        "Optimizing pricing strategies to maximize revenue.\n",
        "To increase guest satisfaction and retention by improving service quality.\n",
        "Ensure compliance with local laws to minimize legal risk and operational disruption.\n",
        "To expand market presence and competitiveness through strategic asset placement and effective marketing strategies."
      ],
      "metadata": {
        "id": "PhDvGCAqmjP1"
      }
    },
    {
      "cell_type": "markdown",
      "source": [
        "# **General Guidelines** : -  "
      ],
      "metadata": {
        "id": "mDgbUHAGgjLW"
      }
    },
    {
      "cell_type": "markdown",
      "source": [
        "1.   Well-structured, formatted, and commented code is required.\n",
        "2.   Exception Handling, Production Grade Code & Deployment Ready Code will be a plus. Those students will be awarded some additional credits.\n",
        "     \n",
        "     The additional credits will have advantages over other students during Star Student selection.\n",
        "       \n",
        "             [ Note: - Deployment Ready Code is defined as, the whole .ipynb notebook should be executable in one go\n",
        "                       without a single error logged. ]\n",
        "\n",
        "3.   Each and every logic should have proper comments.\n",
        "4. You may add as many number of charts you want. Make Sure for each and every chart the following format should be answered.\n",
        "        \n",
        "\n",
        "```\n",
        "# Chart visualization code\n",
        "```\n",
        "            \n",
        "\n",
        "*   Why did you pick the specific chart?\n",
        "*   What is/are the insight(s) found from the chart?\n",
        "* Will the gained insights help creating a positive business impact?\n",
        "Are there any insights that lead to negative growth? Justify with specific reason.\n",
        "\n",
        "\n",
        "5. You have to create at least 20 logical & meaningful charts having important insights.\n",
        "\n",
        "[ Hints : - Do the Vizualization in  a structured way while following \"UBM\" Rule.\n",
        "\n",
        "U - Univariate Analysis,\n",
        "\n",
        "B - Bivariate Analysis (Numerical - Categorical, Numerical - Numerical, Categorical - Categorical)\n",
        "\n",
        "M - Multivariate Analysis\n",
        " ]\n",
        "\n",
        "\n",
        "\n",
        "\n",
        "\n"
      ],
      "metadata": {
        "id": "ZrxVaUj-hHfC"
      }
    },
    {
      "cell_type": "markdown",
      "source": [
        "# ***Let's Begin !***"
      ],
      "metadata": {
        "id": "O_i_v8NEhb9l"
      }
    },
    {
      "cell_type": "markdown",
      "source": [
        "## ***1. Know Your Data***"
      ],
      "metadata": {
        "id": "HhfV-JJviCcP"
      }
    },
    {
      "cell_type": "markdown",
      "source": [
        "### Import Libraries"
      ],
      "metadata": {
        "id": "Y3lxredqlCYt"
      }
    },
    {
      "cell_type": "code",
      "source": [
        "# Import Libraries\n",
        "import numpy as np\n",
        "import pandas as pd\n",
        "from numpy import math\n",
        "from numpy import loadtxt\n",
        "from glob import glob\n",
        "import missingno as msno\n",
        "import seaborn as sns\n",
        "import matplotlib.pyplot as plt\n",
        "%matplotlib inline\n",
        "from matplotlib import rcParams\n",
        "from sqlalchemy import create_engine\n",
        "from sqlalchemy.pool import NullPool\n",
        "import warnings\n",
        "warnings.filterwarnings('ignore')"
      ],
      "metadata": {
        "id": "M8Vqi-pPk-HR"
      },
      "execution_count": null,
      "outputs": []
    },
    {
      "cell_type": "markdown",
      "source": [
        "### Dataset Loading"
      ],
      "metadata": {
        "id": "3RnN4peoiCZX"
      }
    },
    {
      "cell_type": "code",
      "source": [
        "# Load Dataset\n",
        "from google.colab import drive\n",
        "drive.mount('/content/drive')"
      ],
      "metadata": {
        "id": "4CkvbW_SlZ_R"
      },
      "execution_count": null,
      "outputs": []
    },
    {
      "cell_type": "code",
      "source": [
        "AirBNB = pd.read_csv('/content/drive/MyDrive/Data Science/Projects/Air BNB NYC 2019/Syed - Airbnb NYC 2019.csv')\n",
        "AirBNB.head()"
      ],
      "metadata": {
        "id": "2_fU3RBHQjzi"
      },
      "execution_count": null,
      "outputs": []
    },
    {
      "cell_type": "markdown",
      "source": [
        "### Dataset First View"
      ],
      "metadata": {
        "id": "x71ZqKXriCWQ"
      }
    },
    {
      "cell_type": "code",
      "source": [
        "# Dataset First Look\n",
        "AirBNB.head()"
      ],
      "metadata": {
        "id": "LWNFOSvLl09H"
      },
      "execution_count": null,
      "outputs": []
    },
    {
      "cell_type": "markdown",
      "source": [
        "### Dataset Rows & Columns count"
      ],
      "metadata": {
        "id": "7hBIi_osiCS2"
      }
    },
    {
      "cell_type": "code",
      "source": [
        "# Dataset Rows & Columns count\n",
        "AirBNB.shape"
      ],
      "metadata": {
        "id": "Kllu7SJgmLij"
      },
      "execution_count": null,
      "outputs": []
    },
    {
      "cell_type": "markdown",
      "source": [
        "### Dataset Information"
      ],
      "metadata": {
        "id": "JlHwYmJAmNHm"
      }
    },
    {
      "cell_type": "code",
      "source": [
        "# Dataset Info\n",
        "AirBNB.info()"
      ],
      "metadata": {
        "id": "e9hRXRi6meOf"
      },
      "execution_count": null,
      "outputs": []
    },
    {
      "cell_type": "markdown",
      "source": [
        "#### Duplicate Values"
      ],
      "metadata": {
        "id": "35m5QtbWiB9F"
      }
    },
    {
      "cell_type": "code",
      "source": [
        "# Dataset Duplicate Value Count\n",
        "len(AirBNB[AirBNB.duplicated()])"
      ],
      "metadata": {
        "id": "1sLdpKYkmox0"
      },
      "execution_count": null,
      "outputs": []
    },
    {
      "cell_type": "markdown",
      "source": [
        "#### Missing Values/Null Values"
      ],
      "metadata": {
        "id": "PoPl-ycgm1ru"
      }
    },
    {
      "cell_type": "code",
      "source": [
        "# Missing Values/Null Values Count\n",
        "print(AirBNB.isnull().sum())"
      ],
      "metadata": {
        "id": "GgHWkxvamxVg"
      },
      "execution_count": null,
      "outputs": []
    },
    {
      "cell_type": "code",
      "source": [
        "# Visualizing the missing values"
      ],
      "metadata": {
        "id": "3q5wnI3om9sJ",
        "collapsed": true
      },
      "execution_count": null,
      "outputs": []
    },
    {
      "cell_type": "code",
      "source": [
        "sns.heatmap(AirBNB.isnull(), cbar=False)"
      ],
      "metadata": {
        "id": "xqGDB7m_S8Dl"
      },
      "execution_count": null,
      "outputs": []
    },
    {
      "cell_type": "markdown",
      "source": [
        "### What did you know about your dataset?"
      ],
      "metadata": {
        "id": "H0kj-8xxnORC"
      }
    },
    {
      "cell_type": "markdown",
      "source": [
        "Answer Here"
      ],
      "metadata": {
        "id": "gfoNAAC-nUe_"
      }
    },
    {
      "cell_type": "markdown",
      "source": [
        "## ***2. Understanding Your Variables***"
      ],
      "metadata": {
        "id": "nA9Y7ga8ng1Z"
      }
    },
    {
      "cell_type": "code",
      "source": [
        "# Dataset Columns\n",
        "AirBNB.columns"
      ],
      "metadata": {
        "id": "j7xfkqrt5Ag5"
      },
      "execution_count": null,
      "outputs": []
    },
    {
      "cell_type": "code",
      "source": [
        "# Dataset Describe\n",
        "AirBNB.describe(include='all')"
      ],
      "metadata": {
        "id": "DnOaZdaE5Q5t"
      },
      "execution_count": null,
      "outputs": []
    },
    {
      "cell_type": "markdown",
      "source": [
        "### Variables Description"
      ],
      "metadata": {
        "id": "PBTbrJXOngz2"
      }
    },
    {
      "cell_type": "markdown",
      "source": [
        "Answer Here"
      ],
      "metadata": {
        "id": "aJV4KIxSnxay"
      }
    },
    {
      "cell_type": "markdown",
      "source": [
        "### Check Unique Values for each variable."
      ],
      "metadata": {
        "id": "u3PMJOP6ngxN"
      }
    },
    {
      "cell_type": "code",
      "source": [
        "# Check Unique Values for each variable.\n",
        "for i in AirBNB.columns.tolist():\n",
        "  print(\"No. of unique values in \",i,\"is\",AirBNB[i].nunique(),\".\")"
      ],
      "metadata": {
        "id": "zms12Yq5n-jE"
      },
      "execution_count": null,
      "outputs": []
    },
    {
      "cell_type": "markdown",
      "source": [
        "## 3. ***Data Wrangling***"
      ],
      "metadata": {
        "id": "dauF4eBmngu3"
      }
    },
    {
      "cell_type": "markdown",
      "source": [
        "\n",
        "\n",
        "```\n",
        "# This is formatted as code\n",
        "```\n",
        "\n",
        "### Data Wrangling Code"
      ],
      "metadata": {
        "id": "bKJF3rekwFvQ"
      }
    },
    {
      "cell_type": "code",
      "source": [
        "# Write your code to make your dataset analysis ready.\n"
      ],
      "metadata": {
        "id": "wk-9a2fpoLcV"
      },
      "execution_count": null,
      "outputs": []
    },
    {
      "cell_type": "markdown",
      "source": [
        "Now we check the different types of datatypes for each of the coloumn. this not only gives us an idea of what are tyhe different datatypes and types of dats but also gives a broad idea if there ane any errors or NaN values. for example if the latitude which is supposed to be float is an object, that means there might be an error. but as these are select from given option types filling, these errors are not possible."
      ],
      "metadata": {
        "id": "rIt9RJ8CkbHM"
      }
    },
    {
      "cell_type": "code",
      "source": [
        "AirBNB.dtypes"
      ],
      "metadata": {
        "id": "vFHPDcF6mXgs"
      },
      "execution_count": null,
      "outputs": []
    },
    {
      "cell_type": "markdown",
      "source": [
        "After looking at the head of the dataset we already were able to notice some NaN values, therefore need to examine missing values further before continuing with analysis.looking to find out first what columns have null values.using 'sum' function will show us how many nulls are found in each column in dataset."
      ],
      "metadata": {
        "id": "cHXFiKe9kfts"
      }
    },
    {
      "cell_type": "code",
      "source": [
        "AirBNB.isnull().sum()"
      ],
      "metadata": {
        "id": "puUkrCrkmbEB"
      },
      "execution_count": null,
      "outputs": []
    },
    {
      "cell_type": "markdown",
      "source": [
        "In this case, missing data that is observed does not need too much special treatment.the columns \"name\" and \"host_name\" are irrelevant and insignificant to our data analysis, columns \"last_review\" and \"review_per_month\" need very simple handling. To elaborate, \"last_review\" is date;this column is insignificant therefore those values are not needed. For \"review_per_month\" column we can simply append it with 0.0 for missing values; we can see that in \"number_of_review\" that column will have a 0, therefore following this logic with 0 total reviews there will be 0.0 rate of reviews per month. Therefore, let's proceed with removing columns that are not important and handling of missing data."
      ],
      "metadata": {
        "id": "RtkGw0Jqks8i"
      }
    },
    {
      "cell_type": "code",
      "source": [
        "AirBNB.drop(['id','host_name','last_review'], axis=1, inplace=True)\n",
        "AirBNB.head(3)\n"
      ],
      "metadata": {
        "id": "qYxd1sjikTY1"
      },
      "execution_count": null,
      "outputs": []
    },
    {
      "cell_type": "code",
      "source": [
        "AirBNB.fillna({'reviews_per_month':0}, inplace=True)\n",
        "AirBNB.reviews_per_month.isnull().sum()"
      ],
      "metadata": {
        "id": "MlqApATmkTVz"
      },
      "execution_count": null,
      "outputs": []
    },
    {
      "cell_type": "code",
      "source": [
        "(AirBNB== 0).sum()"
      ],
      "metadata": {
        "id": "78aAP-nYlA6y"
      },
      "execution_count": null,
      "outputs": []
    },
    {
      "cell_type": "markdown",
      "source": [
        "we now look at the availability of the airbnb.There are some airbnb's which are available for 0 days .Although this is allowed the number of reviews on them had a value. which means the airbnb has been reviewed even without somebody staying in there. hence, these values are dropped from the list."
      ],
      "metadata": {
        "id": "13hTUf3YlHEV"
      }
    },
    {
      "cell_type": "code",
      "source": [
        "for i in range(len(AirBNB)):\n",
        " if AirBNB.availability_365[i]==0 and AirBNB.number_of_reviews[i]!=0:\n",
        "  AirBNB.drop([i], inplace= True)"
      ],
      "metadata": {
        "id": "6BlpBG9zlA4o"
      },
      "execution_count": null,
      "outputs": []
    },
    {
      "cell_type": "code",
      "source": [
        "(AirBNB== 0).sum()"
      ],
      "metadata": {
        "id": "ulWTJMgjlA2C"
      },
      "execution_count": null,
      "outputs": []
    },
    {
      "cell_type": "code",
      "source": [
        "AirBNB.fillna({'reviews_per_month':0}, inplace=True)\n",
        "AirBNB.reviews_per_month.isnull().sum()"
      ],
      "metadata": {
        "id": "kAig98WalAzZ"
      },
      "execution_count": null,
      "outputs": []
    },
    {
      "cell_type": "markdown",
      "source": [
        "now we see the unique values of neighbourhoods group as this column will appear very handy for later analysis."
      ],
      "metadata": {
        "id": "s_FUzPIVlu3n"
      }
    },
    {
      "cell_type": "code",
      "source": [
        "AirBNB.neighbourhood_group.unique()"
      ],
      "metadata": {
        "id": "cTVw8sTekTTO"
      },
      "execution_count": null,
      "outputs": []
    },
    {
      "cell_type": "markdown",
      "source": [
        "examining the unique values of room_type as this column will appear very handy for later analysis"
      ],
      "metadata": {
        "id": "-4myCmfKl5_z"
      }
    },
    {
      "cell_type": "code",
      "source": [
        "AirBNB.room_type.unique()"
      ],
      "metadata": {
        "id": "6HssxyMokTP9"
      },
      "execution_count": null,
      "outputs": []
    },
    {
      "cell_type": "code",
      "source": [
        "maxprice=AirBNB.price.max()\n",
        "AirBNB.loc[AirBNB['price'] == maxprice]\n"
      ],
      "metadata": {
        "id": "qN9G2DwAkTNd"
      },
      "execution_count": null,
      "outputs": []
    },
    {
      "cell_type": "code",
      "source": [
        " AirBNB.groupby('neighbourhood_group')['price'].mean()"
      ],
      "metadata": {
        "id": "of47oJsjmXTM"
      },
      "execution_count": null,
      "outputs": []
    },
    {
      "cell_type": "code",
      "source": [
        "maxindex=AirBNB.groupby('neighbourhood')['price'].mean().idxmax()\n",
        "maxneigh=AirBNB.groupby('neighbourhood')['price'].mean().max()\n",
        "print(maxindex)\n",
        "print(maxneigh)"
      ],
      "metadata": {
        "id": "xIqgnRFFyJhn"
      },
      "execution_count": null,
      "outputs": []
    },
    {
      "cell_type": "code",
      "source": [
        "maxindexng=AirBNB.groupby('neighbourhood_group')['price'].mean().idxmax()\n",
        "maxneighng=AirBNB.groupby('neighbourhood_group')['price'].mean().max()\n",
        "print(maxindexng)\n",
        "print(maxneighng)"
      ],
      "metadata": {
        "id": "nM1GD8TVyJbs"
      },
      "execution_count": null,
      "outputs": []
    },
    {
      "cell_type": "code",
      "source": [
        "AirBNB.groupby('neighbourhood_group')['minimum_nights'].mean()"
      ],
      "metadata": {
        "id": "YzoBeuqXyJVs"
      },
      "execution_count": null,
      "outputs": []
    },
    {
      "cell_type": "code",
      "source": [
        "AirBNB.groupby('neighbourhood')['minimum_nights'].mean()"
      ],
      "metadata": {
        "id": "jE8hZH_CyJLk"
      },
      "execution_count": null,
      "outputs": []
    },
    {
      "cell_type": "code",
      "source": [
        "reviewpricedf=AirBNB.sort_values('price', ascending = False)\n",
        "reviewpricedf.head(10)"
      ],
      "metadata": {
        "id": "ELb7bNyszoH1"
      },
      "execution_count": null,
      "outputs": []
    },
    {
      "cell_type": "code",
      "source": [
        "data_0 =AirBNB[AirBNB['price'] >=200]\n",
        "print(data_0)\n",
        "data_1 =AirBNB[AirBNB['price'] <=200]\n",
        "print(data_1)"
      ],
      "metadata": {
        "id": "6NcLaNi1zoEt"
      },
      "execution_count": null,
      "outputs": []
    },
    {
      "cell_type": "code",
      "source": [
        "data_0.number_of_reviews.mean()"
      ],
      "metadata": {
        "id": "4G2vairozoBg"
      },
      "execution_count": null,
      "outputs": []
    },
    {
      "cell_type": "code",
      "source": [
        "data_1.number_of_reviews.mean()"
      ],
      "metadata": {
        "id": "3DH9v2bMz8Lk"
      },
      "execution_count": null,
      "outputs": []
    },
    {
      "cell_type": "code",
      "source": [],
      "metadata": {
        "id": "0AsgTt4vz8F7"
      },
      "execution_count": null,
      "outputs": []
    },
    {
      "cell_type": "code",
      "source": [
        "# Removing Duplicate Rows\n",
        "AirBNB.drop_duplicates(inplace=True)"
      ],
      "metadata": {
        "id": "5MAuislCfIYu"
      },
      "execution_count": null,
      "outputs": []
    },
    {
      "cell_type": "markdown",
      "source": [
        "### What all manipulations have you done and insights you found?"
      ],
      "metadata": {
        "id": "MSa1f5Uengrz"
      }
    },
    {
      "cell_type": "markdown",
      "source": [
        "I Checked Data Types, Checked Null Values, Droped some columns, Filled NA's,  grouped column will appear very handy for later analysis, examined the unique values of room_type as this column will appear very handy for later analysis,\n",
        "\n"
      ],
      "metadata": {
        "id": "LbyXE7I1olp8"
      }
    },
    {
      "cell_type": "markdown",
      "source": [
        "## ***4. Data Vizualization, Storytelling & Experimenting with charts : Understand the relationships between variables***"
      ],
      "metadata": {
        "id": "GF8Ens_Soomf"
      }
    },
    {
      "cell_type": "markdown",
      "source": [
        "#### Chart - 1"
      ],
      "metadata": {
        "id": "0wOQAZs5pc--"
      }
    },
    {
      "cell_type": "code",
      "source": [
        "# Chart - 1 visualization code"
      ],
      "metadata": {
        "id": "7v_ESjsspbW7"
      },
      "execution_count": null,
      "outputs": []
    },
    {
      "cell_type": "code",
      "source": [
        "top_host=AirBNB.host_id.value_counts().head(10)\n",
        "top_host"
      ],
      "metadata": {
        "id": "w-naTp4qUA2P"
      },
      "execution_count": null,
      "outputs": []
    },
    {
      "cell_type": "code",
      "source": [
        "AirBNB.host_id.value_counts().head(10).plot(kind='barh')"
      ],
      "metadata": {
        "id": "wXhyOLEMUEJa"
      },
      "execution_count": null,
      "outputs": []
    },
    {
      "cell_type": "markdown",
      "source": [
        "##### 1. Why did you pick the specific chart?"
      ],
      "metadata": {
        "id": "K5QZ13OEpz2H"
      }
    },
    {
      "cell_type": "markdown",
      "source": [
        "This graph below is a plot between host ID and the number of air bnb that are managed by them.From this graph we can find the top 10 people that owns or manages most number of airbnbs.we can see that there is a good distribution between top 10 hosts with the most listings. First host has more than 300+ listings."
      ],
      "metadata": {
        "id": "XESiWehPqBRc"
      }
    },
    {
      "cell_type": "markdown",
      "source": [
        "##### 2. What is/are the insight(s) found from the chart?"
      ],
      "metadata": {
        "id": "lQ7QKXXCp7Bj"
      }
    },
    {
      "cell_type": "markdown",
      "source": [
        "plotting the the host ids vs the number of airbnbs that under each of the hosts"
      ],
      "metadata": {
        "id": "C_j1G7yiqdRP"
      }
    },
    {
      "cell_type": "markdown",
      "source": [
        "##### 3. Will the gained insights help creating a positive business impact?\n",
        "Are there any insights that lead to negative growth? Justify with specific reason."
      ],
      "metadata": {
        "id": "448CDAPjqfQr"
      }
    },
    {
      "cell_type": "markdown",
      "source": [
        "Positive Insights and Business Impact :\n",
        "High-Demand Neighborhoods\n",
        "Seasonal Trends\n",
        "Guest Preferences\n",
        "Optimal Pricing\n",
        "Length of Stay\n",
        "\n",
        "Negative Insights and Potential for Negative Growth:\n",
        "Over-Saturation in Popular Areas\n",
        "Regulatory Changes\n",
        "Negative Guest Experiences\n",
        "Economic Downturns\n"
      ],
      "metadata": {
        "id": "3cspy4FjqxJW"
      }
    },
    {
      "cell_type": "markdown",
      "source": [
        "#### Chart - 2"
      ],
      "metadata": {
        "id": "KSlN3yHqYklG"
      }
    },
    {
      "cell_type": "code",
      "source": [
        "# Chart - 2 visualization code\n",
        "sns.countplot(x=\"neighbourhood_group\",data=AirBNB)"
      ],
      "metadata": {
        "id": "R4YgtaqtYklH"
      },
      "execution_count": null,
      "outputs": []
    },
    {
      "cell_type": "markdown",
      "source": [
        "##### 1. Why did you pick the specific chart?"
      ],
      "metadata": {
        "id": "t6dVpIINYklI"
      }
    },
    {
      "cell_type": "markdown",
      "source": [
        "This graph is a plot between Neighbourhood groups and the number of airbnbs that are in that area."
      ],
      "metadata": {
        "id": "5aaW0BYyYklI"
      }
    },
    {
      "cell_type": "markdown",
      "source": [
        "##### 2. What is/are the insight(s) found from the chart?"
      ],
      "metadata": {
        "id": "ijmpgYnKYklI"
      }
    },
    {
      "cell_type": "markdown",
      "source": [
        "From this graph we infer that Manhattan has the maximum number of airbnbs in the whole of NYC"
      ],
      "metadata": {
        "id": "PSx9atu2YklI"
      }
    },
    {
      "cell_type": "markdown",
      "source": [
        "##### 3. Will the gained insights help creating a positive business impact?\n",
        "Are there any insights that lead to negative growth? Justify with specific reason."
      ],
      "metadata": {
        "id": "-JiQyfWJYklI"
      }
    },
    {
      "cell_type": "markdown",
      "source": [
        "Positive and negative characteristics of Airbnbs community group wise segmentation\n",
        "1. Manhattan\n",
        "Positive qualities:\n",
        "\n",
        "Popular tourist attractions and high-demand shopping centers ensure high occupancy.\n",
        "Increased rates: Properties may command nightly increases due to the location’s reputation.\n",
        "Negative signs:\n",
        "\n",
        "Over-saturation: High levels of competition for hosts can reduce individual profitability.\n",
        "Regulatory review: Strict regulation and enforcement can restrict the number of registrations allowed.\n",
        "2. Brooklyn\n",
        "Positive qualities:\n",
        "\n",
        "Rising popularity: The charming neighborhood attracts tourists looking for an alternative to Manhattan.\n",
        "Diversity offered: Property types and prices appeal to many.\n",
        "Negative signs:\n",
        "\n",
        "Fluctuating demand: Some areas may have lower populations compared to hotspots like Williamsburg.\n",
        "Gentrification concerns: Rising rents can push neighborhoods back and focus on regulations.\n",
        "3. The Queen\n",
        "Positive qualities:\n",
        "\n",
        "Proximity to airports: Increases convenience, short stays for passengers flying early or late.\n",
        "Cheaper options: Low prices generally attract budget travelers.\n",
        "Negative signs:\n",
        "\n",
        "Lower demand: Compared to Manhattan and Brooklyn, lower tourism could lead to lower occupancy.\n",
        "Perceived distance: Perceived distance from major attractions may deter some visitors.\n",
        "4. The Bronx\n",
        "Positive qualities:\n",
        "\n",
        "An undiscovered gem: potential for development as an emerging destination for travel destinations.\n",
        "Cheap listings: Low prices can attract budget travelers and stay longer.\n",
        "Negative signs:\n",
        "\n",
        "Less recognized: Less recognized as a tourist destination, resulting in less demand.\n",
        "Security concerns: Perceptions of security (true or not) can affect booking fees.\n",
        "5. Staten Island\n",
        "Positive Traits:\n",
        "\n",
        "Unique Experience: Offers a different experience with suburban feel and attractions like the Staten Island Ferry.\n",
        "Lower Competition: Fewer listings can mean less competition among hosts.\n",
        "Negative Traits:\n",
        "\n",
        "Accessibility: Perceived as less accessible to major NYC attractions, reducing tourist interest.\n",
        "Lower Demand: Overall lower tourist demand compared to other boroughs, impacting occupancy rates."
      ],
      "metadata": {
        "id": "BcBbebzrYklV"
      }
    },
    {
      "cell_type": "markdown",
      "source": [
        "#### Chart - 3"
      ],
      "metadata": {
        "id": "EM7whBJCYoAo"
      }
    },
    {
      "cell_type": "code",
      "source": [
        "# Chart - 3 visualization code\n",
        "sns.countplot(x=\"room_type\",data=AirBNB)"
      ],
      "metadata": {
        "id": "t6GMdE67YoAp"
      },
      "execution_count": null,
      "outputs": []
    },
    {
      "cell_type": "markdown",
      "source": [
        "##### 1. Why did you pick the specific chart?"
      ],
      "metadata": {
        "id": "fge-S5ZAYoAp"
      }
    },
    {
      "cell_type": "markdown",
      "source": [
        "From this graph we infer the maximum number of airbnbs in the whole of NYC are that of entire room type."
      ],
      "metadata": {
        "id": "5dBItgRVYoAp"
      }
    },
    {
      "cell_type": "markdown",
      "source": [
        "##### 2. What is/are the insight(s) found from the chart?"
      ],
      "metadata": {
        "id": "85gYPyotYoAp"
      }
    },
    {
      "cell_type": "markdown",
      "source": [
        "room type distribution of airbnbs - This graph is a plot between room types and the number of airbnbs that are of that type."
      ],
      "metadata": {
        "id": "4jstXR6OYoAp"
      }
    },
    {
      "cell_type": "markdown",
      "source": [
        "##### 3. Will the gained insights help creating a positive business impact?\n",
        "Are there any insights that lead to negative growth? Justify with specific reason."
      ],
      "metadata": {
        "id": "RoGjAbkUYoAp"
      }
    },
    {
      "cell_type": "markdown",
      "source": [
        "Quality of whole room type Airbnbs in NYC (2019).\n",
        "Superior privacy: Guests prefer a whole home to privacy, leading to more demand and more occupancy.\n",
        "More revenue: Completed homes can command higher rates per night compared to shared spaces, increasing guest revenue.\n",
        "Bad quality of whole room type Airbnbs in NYC (2019).\n",
        "Regulatory challenges: All rental homes face complex regulatory and legal challenges, which can restrict availability and increase compliance costs.\n",
        "Increased maintenance costs: Maintenance of the entire property requires cleaning and maintenance, which can reduce the profitability of tenants."
      ],
      "metadata": {
        "id": "zfJ8IqMcYoAp"
      }
    },
    {
      "cell_type": "markdown",
      "source": [
        "#### Chart - 4"
      ],
      "metadata": {
        "id": "4Of9eVA-YrdM"
      }
    },
    {
      "cell_type": "code",
      "source": [
        "# Chart - 4 visualization code\n",
        "pricedist= AirBNB[AirBNB['price'] <= 2000]\n",
        "x1 = pricedist.loc[pricedist.neighbourhood_group =='Manhattan', 'price']\n",
        "x2 = pricedist.loc[pricedist.neighbourhood_group =='Brooklyn', 'price']\n",
        "x3 = pricedist.loc[pricedist.neighbourhood_group =='Queens', 'price']\n",
        "x4 = pricedist.loc[pricedist.neighbourhood_group =='Staten Island', 'price']\n",
        "x5 = pricedist.loc[pricedist.neighbourhood_group =='Bronx', 'price']\n"
      ],
      "metadata": {
        "id": "irlUoxc8YrdO"
      },
      "execution_count": null,
      "outputs": []
    },
    {
      "cell_type": "code",
      "source": [
        "kwargs = dict(alpha=0.5, bins=100)\n",
        "kwargx = dict(alpha=0.5, bins=100)\n",
        "plt.hist(x1, **kwargs, color='y', label='Manhattan')\n",
        "plt.hist(x2, **kwargs, color='b', label='Brooklyn')\n",
        "plt.hist(x3, **kwargx, color='w', label='Queens')\n",
        "plt.gca().set(title='Frequency Histogram for prices', ylabel='Frequency')\n",
        "plt.xlim(0,500)\n",
        "plt.legend();\n"
      ],
      "metadata": {
        "id": "4FKu2UdCsNud"
      },
      "execution_count": null,
      "outputs": []
    },
    {
      "cell_type": "code",
      "source": [
        "plt.hist(x4, **kwargx, color='k', label='Staten Island')\n",
        "plt.hist(x5, **kwargx, color='b', label='Bronx')\n",
        "plt.gca().set(title='Frequency Histogram pices', ylabel='Frequency')\n",
        "plt.xlim(0,500)\n",
        "plt.legend();"
      ],
      "metadata": {
        "id": "olypnodLslkb"
      },
      "execution_count": null,
      "outputs": []
    },
    {
      "cell_type": "markdown",
      "source": [
        "##### 1. Why did you pick the specific chart?"
      ],
      "metadata": {
        "id": "iky9q4vBYrdO"
      }
    },
    {
      "cell_type": "markdown",
      "source": [
        "from these graphs we can infer that for all the neighbourhood groups, the median value of pricing lies between 0 to 100 USD. we have here excempted the values more than 500 so we can have a clear look at the brackets in the frequency plot"
      ],
      "metadata": {
        "id": "aJRCwT6DYrdO"
      }
    },
    {
      "cell_type": "markdown",
      "source": [
        "##### 2. What is/are the insight(s) found from the chart?"
      ],
      "metadata": {
        "id": "F6T5p64dYrdO"
      }
    },
    {
      "cell_type": "markdown",
      "source": [
        "From this graph we infer the maximum number of airbnbs in the whole of NYC are that of entire room type."
      ],
      "metadata": {
        "id": "Xx8WAJvtYrdO"
      }
    },
    {
      "cell_type": "markdown",
      "source": [
        "##### 3. Will the gained insights help creating a positive business impact?\n",
        "Are there any insights that lead to negative growth? Justify with specific reason."
      ],
      "metadata": {
        "id": "y-Ehk30pYrdP"
      }
    },
    {
      "cell_type": "markdown",
      "source": [
        "Good qualities\n",
        "High Affordability: Prices ranging from $0 to $100 make Airbnb listings more accessible to a wider variety of travelers, increasing occupancy rates.\n",
        "Broader market: Competitive prices can attract budget tourists, driving demand across all local categories.\n",
        "Negative signs\n",
        "Lower profit margins: High prices can hold back host salaries, especially after accounting for maintenance and operating costs.\n",
        "Quality Threats: Low prices may be associated with poor quality accommodations, which may affect guest satisfaction and reviews."
      ],
      "metadata": {
        "id": "jLNxxz7MYrdP"
      }
    },
    {
      "cell_type": "markdown",
      "source": [
        "#### Chart - 5"
      ],
      "metadata": {
        "id": "bamQiAODYuh1"
      }
    },
    {
      "cell_type": "code",
      "source": [
        "# Chart - 5 visualization code\n",
        "numbrev=AirBNB.groupby('neighbourhood_group')['number_of_reviews'].mean()\n",
        "numbrev.plot(kind='bar')"
      ],
      "metadata": {
        "id": "TIJwrbroYuh3"
      },
      "execution_count": null,
      "outputs": []
    },
    {
      "cell_type": "code",
      "source": [
        "numbrev=AirBNB.groupby('neighbourhood_group')['number_of_reviews'].sum()\n",
        "numbrev.plot(kind='bar')"
      ],
      "metadata": {
        "id": "7NBYA4oUtuE1"
      },
      "execution_count": null,
      "outputs": []
    },
    {
      "cell_type": "markdown",
      "source": [
        "##### 1. Why did you pick the specific chart?"
      ],
      "metadata": {
        "id": "QHF8YVU7Yuh3"
      }
    },
    {
      "cell_type": "markdown",
      "source": [
        "The average number of reviews in each of the neighbourhood look very similar and lie between 25 and 35 per airbnb.The total number of reviews in Bronx are more than any of the neighbourhoods."
      ],
      "metadata": {
        "id": "dcxuIMRPYuh3"
      }
    },
    {
      "cell_type": "markdown",
      "source": [
        "##### 2. What is/are the insight(s) found from the chart?"
      ],
      "metadata": {
        "id": "GwzvFGzlYuh3"
      }
    },
    {
      "cell_type": "markdown",
      "source": [
        "plot between number neighbourhood group Vs the sum and the mean of number of reviews in that place"
      ],
      "metadata": {
        "id": "uyqkiB8YYuh3"
      }
    },
    {
      "cell_type": "markdown",
      "source": [
        "##### 3. Will the gained insights help creating a positive business impact?\n",
        "Are there any insights that lead to negative growth? Justify with specific reason."
      ],
      "metadata": {
        "id": "qYpmQ266Yuh3"
      }
    },
    {
      "cell_type": "markdown",
      "source": [
        "Positive business impact\n",
        "High engagement in the Bronx: The highest survey numbers in the Bronx indicate high levels of guest engagement, indicating satisfied customers and potentially strong word-of-mouth business\n",
        "Consistent number of reviews: The same average number of reviews (25-35) in the community indicates reliable guest feedback, which is useful for maintaining the service in order to improve.\n",
        "Poor progress seen\n",
        "Risk of saturation: Increased surveys throughout the Bronx could indicate market saturation, leading to increased competition and potentially decreased occupancy rates\n",
        "Quality Concerns: The same average site review can mask underlying problems in specific locations, possibly leading to unaddressed quality concerns and negative guest experiences grade."
      ],
      "metadata": {
        "id": "_WtzZ_hCYuh4"
      }
    },
    {
      "cell_type": "markdown",
      "source": [
        "#### Chart - 6"
      ],
      "metadata": {
        "id": "OH-pJp9IphqM"
      }
    },
    {
      "cell_type": "code",
      "source": [
        "# Chart - 6 visualization code\n",
        "title = 'Room type location per Neighbourhood Group'\n",
        "sns.catplot(x='room_type', kind=\"count\", hue=\"neighbourhood_group\", data=AirBNB);\n",
        "plt.title(title)\n",
        "plt.ioff()\n"
      ],
      "metadata": {
        "id": "kuRf4wtuphqN"
      },
      "execution_count": null,
      "outputs": []
    },
    {
      "cell_type": "markdown",
      "source": [
        "##### 1. Why did you pick the specific chart?"
      ],
      "metadata": {
        "id": "bbFf2-_FphqN"
      }
    },
    {
      "cell_type": "markdown",
      "source": [
        "from this plot, we can infer that although the number of airbnbs in Manhattan is more, The number of private airbnbs in Brooklyn is way more than in Manhattan.also, the total number of shared rooms are comparetively very less than anyothher type"
      ],
      "metadata": {
        "id": "loh7H2nzphqN"
      }
    },
    {
      "cell_type": "markdown",
      "source": [
        "##### 2. What is/are the insight(s) found from the chart?"
      ],
      "metadata": {
        "id": "_ouA3fa0phqN"
      }
    },
    {
      "cell_type": "markdown",
      "source": [
        "Category count plot between room type and neighbourhood group"
      ],
      "metadata": {
        "id": "VECbqPI7phqN"
      }
    },
    {
      "cell_type": "markdown",
      "source": [
        "##### 3. Will the gained insights help creating a positive business impact?\n",
        "Are there any insights that lead to negative growth? Justify with specific reason."
      ],
      "metadata": {
        "id": "Seke61FWphqN"
      }
    },
    {
      "cell_type": "markdown",
      "source": [
        "Positive business impact\n",
        "An attractively diverse market: The sheer number of private Airbnbs in Brooklyn means a strong market for travelers seeking privacy with potentially lower costs from entire homes.\n",
        "Target Market: Understanding that Manhattan has a high concentration of listings allows for customized marketing strategies that focus on luxury and complete home experiences\n",
        "Poor progress seen\n",
        "Fewer shared rooms: The lower number of shared rooms means less choice for low-income travelers, potentially missing out on this market segment.\n",
        "Overcrowding in Brooklyn: The increase in the number of privately listed individuals in Brooklyn increases competition and may decrease private host profits and occupancy rates"
      ],
      "metadata": {
        "id": "DW4_bGpfphqN"
      }
    },
    {
      "cell_type": "markdown",
      "source": [
        "#### Chart - 7"
      ],
      "metadata": {
        "id": "PIIx-8_IphqN"
      }
    },
    {
      "cell_type": "code",
      "source": [
        "# Chart - 7 visualization code\n",
        "from wordcloud import WordCloud\n",
        "name = \" \".join(str(w) for w in AirBNB.name)\n",
        "plt.subplots(figsize=(15,10))\n",
        "wordcloud = WordCloud(\n",
        "                          background_color='white',\n",
        "                          width=1000,\n",
        "                          height=500,max_words=60\n",
        "                         ).generate(name)\n",
        "plt.imshow(wordcloud)\n",
        "plt.axis('off')\n",
        "plt.savefig('name.png')\n",
        "plt.show()"
      ],
      "metadata": {
        "id": "lqAIGUfyphqO"
      },
      "execution_count": null,
      "outputs": []
    },
    {
      "cell_type": "markdown",
      "source": [
        "##### 1. Why did you pick the specific chart?"
      ],
      "metadata": {
        "id": "t27r6nlMphqO"
      }
    },
    {
      "cell_type": "markdown",
      "source": [
        "This word cloud includes most of the words tbat describe the room. mostly adjectives like cozy,private,mordern etc. hence we can understand that this might help in the search results of the airbnbs"
      ],
      "metadata": {
        "id": "iv6ro40sphqO"
      }
    },
    {
      "cell_type": "markdown",
      "source": [
        "##### 2. What is/are the insight(s) found from the chart?"
      ],
      "metadata": {
        "id": "r2jJGEOYphqO"
      }
    },
    {
      "cell_type": "markdown",
      "source": [
        "word cloud of the words used names of the Airbnbs"
      ],
      "metadata": {
        "id": "Po6ZPi4hphqO"
      }
    },
    {
      "cell_type": "markdown",
      "source": [
        "##### 3. Will the gained insights help creating a positive business impact?\n",
        "Are there any insights that lead to negative growth? Justify with specific reason."
      ],
      "metadata": {
        "id": "b0JNsNcRphqO"
      }
    },
    {
      "cell_type": "markdown",
      "source": [
        "Positive Business Impact\n",
        "Enhanced Visibility: Using popular adjectives like \"cozy,\" \"private,\" and \"modern\" in Airbnb names can improve search results and attract more bookings.\n",
        "Targeted Marketing: Understanding common descriptors helps hosts emphasize these features in their listings, appealing to guest preferences and increasing occupancy rates.\n",
        "Negative Growth Insights\n",
        "Adjective Overuse: Overusing common adjectives may lead to listings blending together, making it harder for individual properties to stand out.\n",
        "Guest Expectations: If properties do not live up to the descriptions like \"cozy\" or \"modern,\" it can result in negative reviews and lower repeat bookings."
      ],
      "metadata": {
        "id": "xvSq8iUTphqO"
      }
    },
    {
      "cell_type": "markdown",
      "source": [
        "#### Chart - 8"
      ],
      "metadata": {
        "id": "BZR9WyysphqO"
      }
    },
    {
      "cell_type": "code",
      "source": [
        "# Chart - 8 visualization code\n",
        "plt.figure(figsize=(18,8))\n",
        "sns.barplot(x=AirBNB.minimum_nights[:25], y=AirBNB.neighbourhood[:25])\n",
        "plt.xticks(rotation=90)\n",
        "plt.show()\n"
      ],
      "metadata": {
        "id": "TdPTWpAVphqO"
      },
      "execution_count": null,
      "outputs": []
    },
    {
      "cell_type": "markdown",
      "source": [
        "##### 1. Why did you pick the specific chart?"
      ],
      "metadata": {
        "id": "jj7wYXLtphqO"
      }
    },
    {
      "cell_type": "markdown",
      "source": [
        "The average number of nights stay is higest in Manhattan with a value of 10.7 days. and when it comes to neighbourhoods,East Village is the place with maximum number of average minimum nuights stay with an average value of 14 days."
      ],
      "metadata": {
        "id": "Ob8u6rCTphqO"
      }
    },
    {
      "cell_type": "markdown",
      "source": [
        "##### 2. What is/are the insight(s) found from the chart?"
      ],
      "metadata": {
        "id": "eZrbJ2SmphqO"
      }
    },
    {
      "cell_type": "markdown",
      "source": [
        "neighbourhood groups where the owners are preffering longer stays rather than one shorter inn type stays"
      ],
      "metadata": {
        "id": "mZtgC_hjphqO"
      }
    },
    {
      "cell_type": "markdown",
      "source": [
        "##### 3. Will the gained insights help creating a positive business impact?\n",
        "Are there any insights that lead to negative growth? Justify with specific reason."
      ],
      "metadata": {
        "id": "rFu4xreNphqO"
      }
    },
    {
      "cell_type": "markdown",
      "source": [
        "Positive business impact\n",
        "Increased revenue: On average, longer stays in Manhattan (10.7 days) and in the East Village (14 days) save more money per booking, reducing marketing costs and time on the empty space\n",
        "Occupancy stability: By encouraging long-term stays, hosts can achieve stable occupancy rates and generate consistent revenue.\n",
        "Poor progress seen\n",
        "Reduced Availability: Prioritizing longer stays can deter short-term travelers, potentially losing an important market segment.\n",
        "Booking gap: Minimum length of stay requirements can create gaps in bookings, reducing overall occupancy and revenue."
      ],
      "metadata": {
        "id": "ey_0qi68phqO"
      }
    },
    {
      "cell_type": "markdown",
      "source": [
        "#### Chart - 9"
      ],
      "metadata": {
        "id": "YJ55k-q6phqO"
      }
    },
    {
      "cell_type": "code",
      "source": [
        "# Chart - 9 visualization code\n"
      ],
      "metadata": {
        "id": "B2aS4O1ophqO"
      },
      "execution_count": null,
      "outputs": []
    },
    {
      "cell_type": "markdown",
      "source": [
        "##### 1. Why did you pick the specific chart?"
      ],
      "metadata": {
        "id": "gCFgpxoyphqP"
      }
    },
    {
      "cell_type": "markdown",
      "source": [
        "Answer Here."
      ],
      "metadata": {
        "id": "TVxDimi2phqP"
      }
    },
    {
      "cell_type": "markdown",
      "source": [
        "##### 2. What is/are the insight(s) found from the chart?"
      ],
      "metadata": {
        "id": "OVtJsKN_phqQ"
      }
    },
    {
      "cell_type": "markdown",
      "source": [
        "Answer Here"
      ],
      "metadata": {
        "id": "ngGi97qjphqQ"
      }
    },
    {
      "cell_type": "markdown",
      "source": [
        "##### 3. Will the gained insights help creating a positive business impact?\n",
        "Are there any insights that lead to negative growth? Justify with specific reason."
      ],
      "metadata": {
        "id": "lssrdh5qphqQ"
      }
    },
    {
      "cell_type": "markdown",
      "source": [
        "Answer Here"
      ],
      "metadata": {
        "id": "tBpY5ekJphqQ"
      }
    },
    {
      "cell_type": "markdown",
      "source": [
        "#### Chart - 10"
      ],
      "metadata": {
        "id": "U2RJ9gkRphqQ"
      }
    },
    {
      "cell_type": "code",
      "source": [
        "# Chart - 10 visualization code"
      ],
      "metadata": {
        "id": "GM7a4YP4phqQ"
      },
      "execution_count": null,
      "outputs": []
    },
    {
      "cell_type": "markdown",
      "source": [
        "##### 1. Why did you pick the specific chart?"
      ],
      "metadata": {
        "id": "1M8mcRywphqQ"
      }
    },
    {
      "cell_type": "markdown",
      "source": [
        "Answer Here."
      ],
      "metadata": {
        "id": "8agQvks0phqQ"
      }
    },
    {
      "cell_type": "markdown",
      "source": [
        "##### 2. What is/are the insight(s) found from the chart?"
      ],
      "metadata": {
        "id": "tgIPom80phqQ"
      }
    },
    {
      "cell_type": "markdown",
      "source": [
        "Answer Here"
      ],
      "metadata": {
        "id": "Qp13pnNzphqQ"
      }
    },
    {
      "cell_type": "markdown",
      "source": [
        "##### 3. Will the gained insights help creating a positive business impact?\n",
        "Are there any insights that lead to negative growth? Justify with specific reason."
      ],
      "metadata": {
        "id": "JMzcOPDDphqR"
      }
    },
    {
      "cell_type": "markdown",
      "source": [
        "Answer Here"
      ],
      "metadata": {
        "id": "R4Ka1PC2phqR"
      }
    },
    {
      "cell_type": "markdown",
      "source": [
        "#### Chart - 11"
      ],
      "metadata": {
        "id": "x-EpHcCOp1ci"
      }
    },
    {
      "cell_type": "code",
      "source": [
        "# Chart - 11 visualization code"
      ],
      "metadata": {
        "id": "mAQTIvtqp1cj"
      },
      "execution_count": null,
      "outputs": []
    },
    {
      "cell_type": "markdown",
      "source": [
        "##### 1. Why did you pick the specific chart?"
      ],
      "metadata": {
        "id": "X_VqEhTip1ck"
      }
    },
    {
      "cell_type": "markdown",
      "source": [
        "Answer Here."
      ],
      "metadata": {
        "id": "-vsMzt_np1ck"
      }
    },
    {
      "cell_type": "markdown",
      "source": [
        "##### 2. What is/are the insight(s) found from the chart?"
      ],
      "metadata": {
        "id": "8zGJKyg5p1ck"
      }
    },
    {
      "cell_type": "markdown",
      "source": [
        "Answer Here"
      ],
      "metadata": {
        "id": "ZYdMsrqVp1ck"
      }
    },
    {
      "cell_type": "markdown",
      "source": [
        "##### 3. Will the gained insights help creating a positive business impact?\n",
        "Are there any insights that lead to negative growth? Justify with specific reason."
      ],
      "metadata": {
        "id": "PVzmfK_Ep1ck"
      }
    },
    {
      "cell_type": "markdown",
      "source": [
        "Answer Here"
      ],
      "metadata": {
        "id": "druuKYZpp1ck"
      }
    },
    {
      "cell_type": "markdown",
      "source": [
        "#### Chart - 12"
      ],
      "metadata": {
        "id": "n3dbpmDWp1ck"
      }
    },
    {
      "cell_type": "code",
      "source": [
        "# Chart - 12 visualization code"
      ],
      "metadata": {
        "id": "bwevp1tKp1ck"
      },
      "execution_count": null,
      "outputs": []
    },
    {
      "cell_type": "markdown",
      "source": [
        "##### 1. Why did you pick the specific chart?"
      ],
      "metadata": {
        "id": "ylSl6qgtp1ck"
      }
    },
    {
      "cell_type": "markdown",
      "source": [
        "Answer Here."
      ],
      "metadata": {
        "id": "m2xqNkiQp1ck"
      }
    },
    {
      "cell_type": "markdown",
      "source": [
        "##### 2. What is/are the insight(s) found from the chart?"
      ],
      "metadata": {
        "id": "ZWILFDl5p1ck"
      }
    },
    {
      "cell_type": "markdown",
      "source": [
        "Answer Here"
      ],
      "metadata": {
        "id": "x-lUsV2mp1ck"
      }
    },
    {
      "cell_type": "markdown",
      "source": [
        "##### 3. Will the gained insights help creating a positive business impact?\n",
        "Are there any insights that lead to negative growth? Justify with specific reason."
      ],
      "metadata": {
        "id": "M7G43BXep1ck"
      }
    },
    {
      "cell_type": "markdown",
      "source": [
        "Answer Here"
      ],
      "metadata": {
        "id": "5wwDJXsLp1cl"
      }
    },
    {
      "cell_type": "markdown",
      "source": [
        "#### Chart - 13"
      ],
      "metadata": {
        "id": "Ag9LCva-p1cl"
      }
    },
    {
      "cell_type": "code",
      "source": [
        "# Chart - 13 visualization code"
      ],
      "metadata": {
        "id": "EUfxeq9-p1cl"
      },
      "execution_count": null,
      "outputs": []
    },
    {
      "cell_type": "markdown",
      "source": [
        "##### 1. Why did you pick the specific chart?"
      ],
      "metadata": {
        "id": "E6MkPsBcp1cl"
      }
    },
    {
      "cell_type": "markdown",
      "source": [
        "Answer Here."
      ],
      "metadata": {
        "id": "V22bRsFWp1cl"
      }
    },
    {
      "cell_type": "markdown",
      "source": [
        "##### 2. What is/are the insight(s) found from the chart?"
      ],
      "metadata": {
        "id": "2cELzS2fp1cl"
      }
    },
    {
      "cell_type": "markdown",
      "source": [
        "Answer Here"
      ],
      "metadata": {
        "id": "ozQPc2_Ip1cl"
      }
    },
    {
      "cell_type": "markdown",
      "source": [
        "##### 3. Will the gained insights help creating a positive business impact?\n",
        "Are there any insights that lead to negative growth? Justify with specific reason."
      ],
      "metadata": {
        "id": "3MPXvC8up1cl"
      }
    },
    {
      "cell_type": "markdown",
      "source": [
        "Answer Here"
      ],
      "metadata": {
        "id": "GL8l1tdLp1cl"
      }
    },
    {
      "cell_type": "markdown",
      "source": [
        "#### Chart - 14 - Correlation Heatmap"
      ],
      "metadata": {
        "id": "NC_X3p0fY2L0"
      }
    },
    {
      "cell_type": "code",
      "source": [
        "# Correlation Heatmap visualization code"
      ],
      "metadata": {
        "id": "xyC9zolEZNRQ"
      },
      "execution_count": null,
      "outputs": []
    },
    {
      "cell_type": "markdown",
      "source": [
        "##### 1. Why did you pick the specific chart?"
      ],
      "metadata": {
        "id": "UV0SzAkaZNRQ"
      }
    },
    {
      "cell_type": "markdown",
      "source": [
        "Answer Here."
      ],
      "metadata": {
        "id": "DVPuT8LYZNRQ"
      }
    },
    {
      "cell_type": "markdown",
      "source": [
        "##### 2. What is/are the insight(s) found from the chart?"
      ],
      "metadata": {
        "id": "YPEH6qLeZNRQ"
      }
    },
    {
      "cell_type": "markdown",
      "source": [
        "Answer Here"
      ],
      "metadata": {
        "id": "bfSqtnDqZNRR"
      }
    },
    {
      "cell_type": "markdown",
      "source": [
        "#### Chart - 15 - Pair Plot"
      ],
      "metadata": {
        "id": "q29F0dvdveiT"
      }
    },
    {
      "cell_type": "code",
      "source": [
        "# Pair Plot visualization code"
      ],
      "metadata": {
        "id": "o58-TEIhveiU"
      },
      "execution_count": null,
      "outputs": []
    },
    {
      "cell_type": "markdown",
      "source": [
        "##### 1. Why did you pick the specific chart?"
      ],
      "metadata": {
        "id": "EXh0U9oCveiU"
      }
    },
    {
      "cell_type": "markdown",
      "source": [
        "Answer Here."
      ],
      "metadata": {
        "id": "eMmPjTByveiU"
      }
    },
    {
      "cell_type": "markdown",
      "source": [
        "##### 2. What is/are the insight(s) found from the chart?"
      ],
      "metadata": {
        "id": "22aHeOlLveiV"
      }
    },
    {
      "cell_type": "markdown",
      "source": [
        "Answer Here"
      ],
      "metadata": {
        "id": "uPQ8RGwHveiV"
      }
    },
    {
      "cell_type": "markdown",
      "source": [
        "## **5. Solution to Business Objective**"
      ],
      "metadata": {
        "id": "JcMwzZxoAimU"
      }
    },
    {
      "cell_type": "markdown",
      "source": [
        "#### What do you suggest the client to achieve Business Objective ?\n",
        "Explain Briefly."
      ],
      "metadata": {
        "id": "8G2x9gOozGDZ"
      }
    },
    {
      "cell_type": "markdown",
      "source": [
        "Recommendations for achieving performance objectives\n",
        "Create listings based on search:\n",
        "\n",
        "Focus on high-demand areas: Encourage bookings in high-demand neighborhoods like Manhattan and Brooklyn to take advantage of increased tourist traffic and residential density\n",
        "Encourage unique experiences: Highlight the unique qualities of less densely populated areas like The Bronx and Staten Island to attract adventurous and budget travelers.\n",
        "Data-driven pricing strategies benefit from:\n",
        "\n",
        "Dynamic Pricing: Use dynamic pricing models that change based on demand, seasons, and local events to maximize revenue.\n",
        "Competitive pricing: Ensure competitive pricing for private units in Brooklyn and other high-demand areas to attract more tenants.\n",
        "Enhance the property description:\n",
        "\n",
        "Keyword optimization: Use popular terms (e.g., \"comfortable,\" \"private,\" \"modern\") from word cloud views in property names and descriptions to improve search visibility and appeal\n",
        "Accurate Description: Ensure property descriptions accurately reflect the facility and its characteristics to meet guest expectations and minimize negative reviews.\n",
        "Encourage longer stays in key locations:\n",
        "\n",
        "Encourage long-term stays: Offer discounts or incentives for a long-term stay, especially in areas like Manhattan and the East Village, where long-term stays are already common.\n",
        "Facilities designed for extended stays: Provide convenient amenities for extended stays, such as a kitchen, laundry facilities and work areas.\n",
        "\n",
        "Monitoring and adjusting to regulatory changes:\n",
        "\n",
        "Stay Informed: Monitor local short-term rental laws regularly to ensure compliance and avoid potential penalties or delisting.\n",
        "Recommend fair legislation: Work with local governments and other stakeholders to promote fair and sustainable short-term rental policies.\n",
        "Enhance the guest experience:\n",
        "\n",
        "Quality Assurance: Quality assurance programs were implemented to maintain high standards of cleanliness, comfort and service.\n",
        "Respond to Feedback: Proactively respond to guest reviews and comments to continuously improve the guest experience and increase ratings.\n",
        "Vary offerings:\n",
        "\n",
        "Explore room types: Increase available room types, including condominiums, to meet a wider range of travelers and budget options.\n",
        "Invest in underdeveloped areas: Consider investing in properties in underdeveloped communities where the use of portfolios and reliance on highly congested areas can be reduced.\n",
        "By implementing these strategies, the client will be able to have a positive business impact, increase occupancy, improve revenue, and increase guest satisfaction, leading to growth and competitiveness trends in the NYC Airbnb market have resulted"
      ],
      "metadata": {
        "id": "pASKb0qOza21"
      }
    },
    {
      "cell_type": "markdown",
      "source": [
        "# **Conclusion**"
      ],
      "metadata": {
        "id": "gCX9965dhzqZ"
      }
    },
    {
      "cell_type": "markdown",
      "source": [
        "In conclusion, in order to successfully achieve business objectives in the competitive NYC Airbnb market, it is important for the client to focus on implementing strategic plans:\n",
        "\n",
        "Property Marketing Strategy: Take advantage of less demanding areas such as The Bronx and unique sections of Staten Island and highlight listings in high-demand neighborhoods such as Manhattan and Brooklyn.\n",
        "\n",
        "Data-Driven Pricing: Dynamic pricing strategies were used to generate capital by adjusting base prices based on demand fluctuations and seasonality.\n",
        "\n",
        "Improved commerce and guest experience: Use insights from keyword research to optimize product descriptions to improve search visibility. Maintain high standards in the guest experience through quality assurance and responsive guest engagement.\n",
        "\n",
        "Compliance and advocacy: Stay informed and comply with local laws regarding short-term rentals. Recommend appropriate legislation to support sustainable development.\n",
        "\n",
        "Diversity and long-term incentives: Use long-term incentives to stabilize residents. Vary the rooms offered to appeal to a wide range of travelers.\n",
        "\n",
        "By aligning these strategies with business objectives, the client will be able to drive positive growth, improve profitability, and establish a strong competitive edge in the NYC Airbnb market."
      ],
      "metadata": {
        "id": "Fjb1IsQkh3yE"
      }
    },
    {
      "cell_type": "markdown",
      "source": [
        "### ***Hurrah! You have successfully completed your EDA Capstone Project !!!***"
      ],
      "metadata": {
        "id": "gIfDvo9L0UH2"
      }
    }
  ]
}